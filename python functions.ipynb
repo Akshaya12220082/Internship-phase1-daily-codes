{
 "cells": [
  {
   "cell_type": "code",
   "execution_count": 1,
   "id": "48335efe-bb92-4cd8-b233-2437a2d10d94",
   "metadata": {},
   "outputs": [
    {
     "name": "stdout",
     "output_type": "stream",
     "text": [
      "Hello, Alice!\n"
     ]
    }
   ],
   "source": [
    "# SIMPLE FUNCTION\n",
    "#Write a function greet that takes a name as a parameter and prints a greeting message.\n",
    "\n",
    "def greet(name):\n",
    "    print(f\"Hello, {name}!\")\n",
    "\n",
    "# Test the function\n",
    "greet(\"Alice\")\n"
   ]
  },
  {
   "cell_type": "code",
   "execution_count": 2,
   "id": "1025b927-cd7e-45ad-b2be-a300589e4a3d",
   "metadata": {},
   "outputs": [
    {
     "name": "stdout",
     "output_type": "stream",
     "text": [
      "7\n"
     ]
    }
   ],
   "source": [
    "#  Function with Return Value\n",
    "#Write a function add that takes two numbers as parameters and returns their sum.\n",
    "\n",
    "def add(a, b):\n",
    "    return a + b\n",
    "\n",
    "# Test the function\n",
    "result = add(3, 4)\n",
    "print(result)  # Output: 7\n"
   ]
  },
  {
   "cell_type": "code",
   "execution_count": 3,
   "id": "7560b8ca-ed2e-4062-982e-456f8e7173ba",
   "metadata": {},
   "outputs": [
    {
     "name": "stdout",
     "output_type": "stream",
     "text": [
      "9\n",
      "27\n"
     ]
    }
   ],
   "source": [
    "# Default parameters\n",
    "# Write a function power that takes two parameters base and exponent, with exponent having a default value of 2, and returns the result \n",
    "#of raising base to the power of exponent.\n",
    "\n",
    "def power(base, exponent=2):\n",
    "    return base ** exponent\n",
    "\n",
    "# Test the function\n",
    "print(power(3))        # Output: 9\n",
    "print(power(3, 3))     # Output: 27\n"
   ]
  },
  {
   "cell_type": "code",
   "execution_count": 4,
   "id": "f4ecb947-5fd8-4882-a393-3d388ce128c4",
   "metadata": {},
   "outputs": [
    {
     "name": "stdout",
     "output_type": "stream",
     "text": [
      "24\n",
      "30\n"
     ]
    }
   ],
   "source": [
    "# variable length arguements\n",
    "# Write a function multiply that takes a variable number of arguments and returns their product.\n",
    "\n",
    "def multiply(*args):\n",
    "    product = 1\n",
    "    for num in args:\n",
    "        product *= num\n",
    "    return product\n",
    "\n",
    "# Test the function\n",
    "print(multiply(1, 2, 3, 4))  # Output: 24\n",
    "print(multiply(5, 6))        # Output: 30\n"
   ]
  },
  {
   "cell_type": "code",
   "execution_count": 5,
   "id": "9e190ae8-b3f2-46fd-93a2-19f7377d6f1e",
   "metadata": {},
   "outputs": [
    {
     "name": "stdout",
     "output_type": "stream",
     "text": [
      "Name: Alice\n",
      "Age: 25\n",
      "City: New York\n",
      "Profession: Engineer\n"
     ]
    }
   ],
   "source": [
    "# keyword arguements\n",
    "# Write a function describe_person that takes a person's name and an arbitrary number of keyword arguments representing other attributes, and prints\n",
    "#a description of the person.\n",
    "\n",
    "def describe_person(name, **attributes):\n",
    "    print(f\"Name: {name}\")\n",
    "    for key, value in attributes.items():\n",
    "        print(f\"{key.capitalize()}: {value}\")\n",
    "\n",
    "# Test the function\n",
    "describe_person(\"Alice\", age=25, city=\"New York\", profession=\"Engineer\")\n"
   ]
  },
  {
   "cell_type": "code",
   "execution_count": 6,
   "id": "c144916c-8e5e-45fd-9241-690f9fff1a12",
   "metadata": {},
   "outputs": [
    {
     "name": "stdout",
     "output_type": "stream",
     "text": [
      "6\n",
      "4\n"
     ]
    }
   ],
   "source": [
    "# lambda functions\n",
    "# Write a lambda function that takes two numbers and returns their difference.\n",
    "\n",
    "difference = lambda x, y: x - y\n",
    "\n",
    "# Test the lambda function\n",
    "print(difference(10, 4))  # Output: 6\n",
    "print(difference(7, 3))   # Output: 4\n"
   ]
  },
  {
   "cell_type": "code",
   "execution_count": 7,
   "id": "b98f80b7-84a5-4a55-834f-69e3a8f61880",
   "metadata": {},
   "outputs": [
    {
     "name": "stdout",
     "output_type": "stream",
     "text": [
      "[4, 16, 36, 64, 100]\n"
     ]
    }
   ],
   "source": [
    "# map and filters\n",
    "# Use map and filter functions to create a new list that contains the squares of all even numbers from an existing list.\n",
    "\n",
    "numbers = [1, 2, 3, 4, 5, 6, 7, 8, 9, 10]\n",
    "\n",
    "even_squares = list(map(lambda x: x**2, filter(lambda x: x % 2 == 0, numbers)))\n",
    "\n",
    "# Test the result\n",
    "print(even_squares)  # Output: [4, 16, 36, 64, 100]\n"
   ]
  },
  {
   "cell_type": "code",
   "execution_count": 8,
   "id": "ab944a0c-694a-4720-aeae-072c109a21fd",
   "metadata": {},
   "outputs": [
    {
     "name": "stdout",
     "output_type": "stream",
     "text": [
      "Hello from inner function\n"
     ]
    }
   ],
   "source": [
    "# Nested functions\n",
    "# Write a function outer that contains a nested function inner. The inner function should return the string \"Hello from inner function\", and the \n",
    "#outer function should return the result of calling the inner function.\n",
    "\n",
    "def outer():\n",
    "    def inner():\n",
    "        return \"Hello from inner function\"\n",
    "    return inner()\n",
    "\n",
    "# Test the function\n",
    "print(outer())  # Output: Hello from inner function\n"
   ]
  },
  {
   "cell_type": "code",
   "execution_count": null,
   "id": "74a9a0e5-d53d-4543-b181-3d513de79291",
   "metadata": {},
   "outputs": [],
   "source": []
  }
 ],
 "metadata": {
  "kernelspec": {
   "display_name": "Python 3 (ipykernel)",
   "language": "python",
   "name": "python3"
  },
  "language_info": {
   "codemirror_mode": {
    "name": "ipython",
    "version": 3
   },
   "file_extension": ".py",
   "mimetype": "text/x-python",
   "name": "python",
   "nbconvert_exporter": "python",
   "pygments_lexer": "ipython3",
   "version": "3.11.7"
  }
 },
 "nbformat": 4,
 "nbformat_minor": 5
}
