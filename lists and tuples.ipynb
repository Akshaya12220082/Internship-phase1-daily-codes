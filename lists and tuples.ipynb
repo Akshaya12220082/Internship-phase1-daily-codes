{
 "cells": [
  {
   "cell_type": "code",
   "execution_count": 1,
   "id": "cca3fb76-b4d6-471c-b429-8b95bf443d0c",
   "metadata": {},
   "outputs": [
    {
     "name": "stdout",
     "output_type": "stream",
     "text": [
      "After appending: [5, 2, 9, 1, 5, 6, 10]\n",
      "After removing 9: [5, 2, 1, 5, 6, 10]\n",
      "Sorted list: [1, 2, 5, 5, 6, 10]\n",
      "Max number: 10\n",
      "Min number: 1\n"
     ]
    }
   ],
   "source": [
    "# LISTS\n",
    "# basic list operations\n",
    "# Create a list of numbers. Perform the following operations: append a number, remove a number, sort the list, and find the maximum and minimum numbers.\n",
    "\n",
    "numbers = [5, 2, 9, 1, 5, 6]\n",
    "\n",
    "# Appending a number\n",
    "numbers.append(10)\n",
    "print(\"After appending:\", numbers)  \n",
    "\n",
    "# Removing a number\n",
    "numbers.remove(9)\n",
    "print(\"After removing 9:\", numbers)  \n",
    "\n",
    "# Sorting the list\n",
    "numbers.sort()\n",
    "print(\"Sorted list:\", numbers)  \n",
    "\n",
    "# Finding the maximum and minimum numbers\n",
    "max_num = max(numbers)\n",
    "min_num = min(numbers)\n",
    "print(\"Max number:\", max_num)  \n",
    "print(\"Min number:\", min_num)  \n"
   ]
  },
  {
   "cell_type": "code",
   "execution_count": 2,
   "id": "d6bd6c6b-799f-4329-8c7f-4edf60693d8f",
   "metadata": {},
   "outputs": [
    {
     "name": "stdout",
     "output_type": "stream",
     "text": [
      "Original list: [1, 2, 3, 4, 5]\n",
      "Multiplier: 3\n",
      "New list: [3, 6, 9, 12, 15]\n"
     ]
    }
   ],
   "source": [
    "# list multiplication\n",
    "# Write a function multiply_list that takes a list of numbers and a single number as arguments. The function should return a new list \n",
    "# where each element is multiplied by the given number.\n",
    "\n",
    "def multiply_list(numbers, multiplier):\n",
    "    return [num * multiplier for num in numbers]\n",
    "\n",
    "# Testing the function\n",
    "original_list = [1, 2, 3, 4, 5]\n",
    "multiplier = 3\n",
    "new_list = multiply_list(original_list, multiplier)\n",
    "print(\"Original list:\", original_list)  \n",
    "print(\"Multiplier:\", multiplier)       \n",
    "print(\"New list:\", new_list)            \n"
   ]
  },
  {
   "cell_type": "code",
   "execution_count": 3,
   "id": "32a7991e-34d9-4edc-84f0-99b1164fdb12",
   "metadata": {},
   "outputs": [
    {
     "name": "stdout",
     "output_type": "stream",
     "text": [
      "List of squares: [1, 4, 9, 16, 25, 36, 49, 64, 81, 100]\n"
     ]
    }
   ],
   "source": [
    "# list comprehension\n",
    "# Create a list of squares of the numbers from 1 to 10 using list comprehension.\n",
    "\n",
    "squares = [x**2 for x in range(1, 11)]\n",
    "print(\"List of squares:\", squares)  \n"
   ]
  },
  {
   "cell_type": "code",
   "execution_count": 4,
   "id": "2c27c49b-1d78-47b7-aa7d-466130ec6271",
   "metadata": {},
   "outputs": [
    {
     "name": "stdout",
     "output_type": "stream",
     "text": [
      "First element: 1\n",
      "Last element: 5\n",
      "Elements from index 1 to 3: (2, 3, 4)\n"
     ]
    }
   ],
   "source": [
    "# TUPLE\n",
    "# basic tuple operations\n",
    "# Create a tuple of numbers. Access elements and perform slicing operations.\n",
    "\n",
    "numbers = (1, 2, 3, 4, 5)\n",
    "\n",
    "# Accessing elements\n",
    "print(\"First element:\", numbers[0])  \n",
    "print(\"Last element:\", numbers[-1])  \n",
    "\n",
    "# Slicing\n",
    "print(\"Elements from index 1 to 3:\", numbers[1:4])  \n"
   ]
  },
  {
   "cell_type": "code",
   "execution_count": 5,
   "id": "daff85b4-df2e-45ee-810d-d6c28633936c",
   "metadata": {},
   "outputs": [
    {
     "name": "stdout",
     "output_type": "stream",
     "text": [
      "a: 10\n",
      "b: 20\n",
      "c: 30\n"
     ]
    }
   ],
   "source": [
    "# tuple unpacking \n",
    "# Create a tuple with three elements and unpack the values into three variables.\n",
    "\n",
    "my_tuple = (10, 20, 30)\n",
    "a, b, c = my_tuple\n",
    "print(\"a:\", a)  \n",
    "print(\"b:\", b)  \n",
    "print(\"c:\", c)  \n",
    "\n"
   ]
  },
  {
   "cell_type": "code",
   "execution_count": 6,
   "id": "5a205be4-ae19-4b23-82cb-3ab07eca9265",
   "metadata": {},
   "outputs": [
    {
     "name": "stdout",
     "output_type": "stream",
     "text": [
      "Union: {1, 2, 3, 4, 5, 6, 7, 8}\n",
      "Intersection: {4, 5}\n",
      "Difference: {1, 2, 3}\n"
     ]
    }
   ],
   "source": [
    "# SETS\n",
    "# Create two sets of numbers. Perform union, intersection, and difference operations.\n",
    "\n",
    "set1 = {1, 2, 3, 4, 5}\n",
    "set2 = {4, 5, 6, 7, 8}\n",
    "\n",
    "# Union\n",
    "union_set = set1.union(set2)\n",
    "print(\"Union:\", union_set)  \n",
    "# Intersection\n",
    "intersection_set = set1.intersection(set2)\n",
    "print(\"Intersection:\", intersection_set) \n",
    "# Difference\n",
    "difference_set = set1.difference(set2)\n",
    "print(\"Difference:\", difference_set)  \n"
   ]
  },
  {
   "cell_type": "code",
   "execution_count": 7,
   "id": "3cb9b16e-282a-4e97-97e3-d3e61f0fee3f",
   "metadata": {},
   "outputs": [
    {
     "name": "stdout",
     "output_type": "stream",
     "text": [
      "Set of squares: {64, 1, 4, 36, 100, 9, 16, 49, 81, 25}\n"
     ]
    }
   ],
   "source": [
    "# set comprehension\n",
    "# Create a set of squares of the numbers from 1 to 10 using set comprehension.\n",
    "\n",
    "squares_set = {x**2 for x in range(1, 11)}\n",
    "print(\"Set of squares:\", squares_set)  \n"
   ]
  },
  {
   "cell_type": "code",
   "execution_count": 8,
   "id": "4874939e-be94-4b79-971c-13f5363cdb20",
   "metadata": {},
   "outputs": [
    {
     "name": "stdout",
     "output_type": "stream",
     "text": [
      "After adding new key-value pair: {'name': 'Alice', 'age': 22, 'major': 'Computer Science', 'university': 'XYZ University'}\n",
      "After removing age: {'name': 'Alice', 'major': 'Computer Science', 'university': 'XYZ University'}\n",
      "Major: Computer Science\n"
     ]
    }
   ],
   "source": [
    "# DICTIONARY\n",
    "# Create a dictionary with some key-value pairs. Add a new key-value pair, remove a key, and access a value by its key.\n",
    "\n",
    "student = {\"name\": \"Alice\", \"age\": 22, \"major\": \"Computer Science\"}\n",
    "\n",
    "# Adding a new key-value pair\n",
    "student[\"university\"] = \"XYZ University\"\n",
    "print(\"After adding new key-value pair:\", student)  \n",
    "\n",
    "# Removing a key\n",
    "del student[\"age\"]\n",
    "print(\"After removing age:\", student)  \n",
    "\n",
    "# Accessing a value by its key\n",
    "major = student.get(\"major\")\n",
    "print(\"Major:\", major)  "
   ]
  },
  {
   "cell_type": "code",
   "execution_count": 9,
   "id": "1c31dd7d-2af0-4bc9-aade-67f6d7eb73a5",
   "metadata": {},
   "outputs": [
    {
     "name": "stdout",
     "output_type": "stream",
     "text": [
      "Dictionary of squares: {1: 1, 2: 4, 3: 9, 4: 16, 5: 25}\n"
     ]
    }
   ],
   "source": [
    "# dictionary comprehension\n",
    "# Create a dictionary that maps numbers from 1 to 5 to their squares using dictionary comprehension.\n",
    "\n",
    "squares_dict = {x: x**2 for x in range(1, 6)}\n",
    "print(\"Dictionary of squares:\", squares_dict)  "
   ]
  },
  {
   "cell_type": "code",
   "execution_count": null,
   "id": "3fd31052-1c58-421b-931a-9d989931e91d",
   "metadata": {},
   "outputs": [],
   "source": []
  }
 ],
 "metadata": {
  "kernelspec": {
   "display_name": "Python 3 (ipykernel)",
   "language": "python",
   "name": "python3"
  },
  "language_info": {
   "codemirror_mode": {
    "name": "ipython",
    "version": 3
   },
   "file_extension": ".py",
   "mimetype": "text/x-python",
   "name": "python",
   "nbconvert_exporter": "python",
   "pygments_lexer": "ipython3",
   "version": "3.11.7"
  }
 },
 "nbformat": 4,
 "nbformat_minor": 5
}
