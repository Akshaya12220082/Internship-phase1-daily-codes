{
 "cells": [
  {
   "cell_type": "code",
   "execution_count": 1,
   "id": "d3d20c94-dac5-4769-960b-546286dd708c",
   "metadata": {},
   "outputs": [
    {
     "name": "stdout",
     "output_type": "stream",
     "text": [
      "[[[6.38365808e-02 2.85151651e-01 4.21798406e-04 2.37111346e-02]\n",
      "  [5.17792762e-03 7.47418386e-02 4.28515767e-01 3.81074375e-02]\n",
      "  [2.38992244e-01 1.35152296e-01 7.10019078e-01 4.49279361e-01]]\n",
      "\n",
      " [[1.27788362e-01 1.21545229e-01 8.48836322e-02 3.28679603e-01]\n",
      "  [1.00134158e-01 5.20466266e-02 4.55795265e-01 8.92825689e-03]\n",
      "  [5.63146954e-01 5.58793209e-02 1.73945204e-01 2.35598191e-01]]]\n"
     ]
    }
   ],
   "source": [
    "# Hands-On Exercises\n",
    "# Array Operations and Broadcasting:\n",
    "\n",
    "# 1. Given a 3D array a with shape (2, 3, 4) and a 2D array b with shape (3, 4), perform element-wise multiplication between a and b using broadcasting.\n",
    "# 2. Implement a function that takes two 2D arrays c and d with different shapes and performs element-wise operations (addition, subtraction, multiplication, \n",
    "# and division) between them using broadcasting. Handle the case where broadcasting is not possible.\n",
    "# 3. Create a 2D array e with shape (5, 3) and a 1D array f with length 5. Compute the outer product of e and f using broadcasting.\n",
    "\n",
    "# 1.\n",
    "import numpy as np\n",
    "\n",
    "a = np.random.rand(2, 3, 4)\n",
    "b = np.random.rand(3, 4)\n",
    "result = a * b\n",
    "print(result)\n"
   ]
  },
  {
   "cell_type": "code",
   "execution_count": 2,
   "id": "b6b9be24-fb2c-4c3d-afd3-c80af8de3188",
   "metadata": {},
   "outputs": [
    {
     "name": "stdout",
     "output_type": "stream",
     "text": [
      "Addition Result:\n",
      " [[0.71905405 0.49911537 1.2133302  1.49667251 0.65080306]\n",
      " [0.58499238 0.79431051 0.53328086 1.410963   0.7572514 ]\n",
      " [0.32488881 1.01831827 1.36646359 1.19827528 0.94258567]\n",
      " [0.60408493 0.79546673 1.12451659 1.77672748 1.34149179]]\n",
      "Subtraction Result:\n",
      " [[ 0.57316538  0.29103862  0.40396557 -0.13163306 -0.52398429]\n",
      " [ 0.43910371  0.58623376 -0.27608377 -0.21734257 -0.41753595]\n",
      " [ 0.17900015  0.81024152  0.55709896 -0.4300303  -0.23220167]\n",
      " [ 0.45819627  0.58738998  0.31515196  0.1484219   0.16670445]]\n",
      "Multiplication Result:\n",
      " [[0.04713004 0.04110317 0.3272455  0.55567534 0.03724627]\n",
      " [0.037351   0.07181479 0.05204156 0.4858947  0.09977335]\n",
      " [0.01837792 0.09512019 0.38921587 0.3127344  0.20863753]\n",
      " [0.0387437  0.07193508 0.2913042  0.78368287 0.44295246]]\n",
      "Division Result:\n",
      " [[8.85757255 3.79741603 1.99822887 0.83831897 0.10795041]\n",
      " [7.01970981 6.6347839  0.31777653 0.73304449 0.28917187]\n",
      " [3.45392811 8.78791013 2.37663283 0.47180639 0.60469157]\n",
      " [7.28145121 6.64589724 1.77876385 1.18230227 1.28380362]]\n"
     ]
    }
   ],
   "source": [
    "# 2.\n",
    "def broadcast_operations(c, d):\n",
    "    try:\n",
    "        add_result = c + d\n",
    "        sub_result = c - d\n",
    "        mul_result = c * d\n",
    "        div_result = c / d\n",
    "        return add_result, sub_result, mul_result, div_result\n",
    "    except ValueError as e:\n",
    "        print(f\"Broadcasting error: {e}\")\n",
    "        return None\n",
    "\n",
    "c = np.random.rand(4, 5)\n",
    "d = np.random.rand(1, 5)  \n",
    "results = broadcast_operations(c, d)\n",
    "if results:\n",
    "    add_result, sub_result, mul_result, div_result = results\n",
    "    print(\"Addition Result:\\n\", add_result)\n",
    "    print(\"Subtraction Result:\\n\", sub_result)\n",
    "    print(\"Multiplication Result:\\n\", mul_result)\n",
    "    print(\"Division Result:\\n\", div_result)\n"
   ]
  },
  {
   "cell_type": "code",
   "execution_count": 3,
   "id": "c41308c6-b801-4da9-a945-84daf27fad43",
   "metadata": {},
   "outputs": [
    {
     "name": "stdout",
     "output_type": "stream",
     "text": [
      "[[0.39354049 0.49800519 0.5601814 ]\n",
      " [0.11080031 0.26073366 0.15441237]\n",
      " [0.23334877 0.64523689 0.66741609]\n",
      " [0.36762377 0.26556353 0.47526917]\n",
      " [0.46213707 0.18849667 0.0607584 ]]\n"
     ]
    }
   ],
   "source": [
    "# 3.\n",
    "e = np.random.rand(5, 3)\n",
    "f = np.random.rand(5)\n",
    "\n",
    "outer_product = e * f[:, np.newaxis]\n",
    "print(outer_product)\n"
   ]
  },
  {
   "cell_type": "code",
   "execution_count": 4,
   "id": "6e7f5c83-4b31-4595-9cfb-5a753ca0408c",
   "metadata": {},
   "outputs": [
    {
     "name": "stdout",
     "output_type": "stream",
     "text": [
      "[[[0.20510262 0.30422858]\n",
      "  [0.84159294 0.19118034]]\n",
      "\n",
      " [[0.43569264 0.4865267 ]\n",
      "  [0.00627182 0.43050035]]]\n"
     ]
    }
   ],
   "source": [
    "# Indexing and Slicing:\n",
    "\n",
    "# 1.Given a 3D array g with shape (4, 3, 2), extract every other element along the first and second dimensions, but keep all\n",
    "# elements along the third dimension.\n",
    "# 2.Create a function that takes a 2D array h and an array of row indices i and column indices j. The function should return a new array\n",
    "# k where k[m, n] is the sum of the elements in h along the diagonal specified by i[m] and j[n].\n",
    "# 3.Implement a function that takes a 2D array l and returns a new array m where each element in m is the product of the corresponding row\n",
    "# and column means in l.\n",
    "\n",
    "# 1.\n",
    "g = np.random.rand(4, 3, 2)\n",
    "\n",
    "# Extracting every other element along the first and second dimensions\n",
    "sliced_g = g[::2, ::2, :]\n",
    "print(sliced_g)\n"
   ]
  },
  {
   "cell_type": "code",
   "execution_count": 5,
   "id": "b1cd522e-6f87-4782-ad56-1b35c8f95bbf",
   "metadata": {},
   "outputs": [
    {
     "name": "stdout",
     "output_type": "stream",
     "text": [
      "[[0.79874263 0.35670253 0.2688028 ]\n",
      " [0.76746589 0.62832159 0.71372254]\n",
      " [0.32429557 0.38762995 0.35049396]]\n"
     ]
    }
   ],
   "source": [
    "# 2.\n",
    "def diagonal_sum(h, i, j):\n",
    "    k = np.array([h[i[m], j[n]] for m in range(len(i)) for n in range(len(j))]).reshape(len(i), len(j))\n",
    "    return k\n",
    "\n",
    "h = np.random.rand(5, 5)\n",
    "i = np.array([0, 1, 2])\n",
    "j = np.array([0, 1, 2])\n",
    "\n",
    "k = diagonal_sum(h, i, j)\n",
    "print(k)\n"
   ]
  },
  {
   "cell_type": "code",
   "execution_count": 6,
   "id": "ac53372b-e946-4008-983b-5b1692112400",
   "metadata": {},
   "outputs": [
    {
     "name": "stdout",
     "output_type": "stream",
     "text": [
      "[[0.45909839 0.2403061  0.38964198 0.23154105]\n",
      " [0.35637889 0.18653958 0.30246278 0.17973564]\n",
      " [0.41440475 0.21691209 0.35170999 0.20900032]\n",
      " [0.46373158 0.24273126 0.39357423 0.23387775]]\n"
     ]
    }
   ],
   "source": [
    "# 3.\n",
    "def row_col_mean_product(l):\n",
    "    row_means = l.mean(axis=1)\n",
    "    col_means = l.mean(axis=0)\n",
    "    m = np.outer(row_means, col_means)\n",
    "    return m\n",
    "\n",
    "l = np.random.rand(4, 4)\n",
    "m = row_col_mean_product(l)\n",
    "print(m)\n"
   ]
  },
  {
   "cell_type": "code",
   "execution_count": 7,
   "id": "b521e9b1-9e59-45f4-bd03-d2ad534446ec",
   "metadata": {},
   "outputs": [
    {
     "name": "stdout",
     "output_type": "stream",
     "text": [
      "[[0.09398853 0.94561786 0.32846486 0.27203687 0.22178744 0.18411933]\n",
      " [0.97343238 0.67038382 0.86396128 0.07160837 0.66369787 0.78360152]\n",
      " [0.76644824 0.50958258 0.00447362 0.27652093 0.14173625 0.24386767]\n",
      " [0.79876336 0.7434402  0.40800855 0.74304277 0.80166346 0.08189859]]\n"
     ]
    }
   ],
   "source": [
    "# Array Manipulation:\n",
    "\n",
    "# 1.Given a 2D array n with shape (4, 6), reshape it into a 3D array with shape (2, 2, 6) and then flatten it back to a 2D array with shape (4, 6).\n",
    "# 2.Implement a function that takes a 2D array o and rolls it along the first axis by a specified number of positions. For example, if the input \n",
    "# array is [[1, 2, 3], [4, 5, 6]] and the number of positions is 1, the output should be [[4, 5, 6], [1, 2, 3]].\n",
    "# 3.Create a function that takes a 2D array p and replaces all occurrences of a specified value x with the mean of the neighboring \n",
    "# elements (horizontally and vertically) in the array.\n",
    "\n",
    "# 1.\n",
    "n = np.random.rand(4, 6)\n",
    "\n",
    "# Reshaping to (2, 2, 6)\n",
    "reshaped_n = n.reshape(2, 2, 6)\n",
    "\n",
    "# Flattening back to (4, 6)\n",
    "flattened_n = reshaped_n.reshape(4, 6)\n",
    "print(flattened_n)\n"
   ]
  },
  {
   "cell_type": "code",
   "execution_count": 8,
   "id": "5a8e4468-b95f-49da-8ec6-6f1d4c9de7ee",
   "metadata": {},
   "outputs": [
    {
     "name": "stdout",
     "output_type": "stream",
     "text": [
      "[[4 5 6]\n",
      " [1 2 3]]\n"
     ]
    }
   ],
   "source": [
    "# 2.\n",
    "def roll_array(o, positions):\n",
    "    rolled_o = np.roll(o, shift=positions, axis=0)\n",
    "    return rolled_o\n",
    "\n",
    "o = np.array([[1, 2, 3], [4, 5, 6]])\n",
    "positions = 1\n",
    "rolled_o = roll_array(o, positions)\n",
    "print(rolled_o)\n"
   ]
  },
  {
   "cell_type": "code",
   "execution_count": 9,
   "id": "db7507ef-9c08-43e7-9548-5276fc9b5be4",
   "metadata": {},
   "outputs": [
    {
     "name": "stdout",
     "output_type": "stream",
     "text": [
      "[[1 2 3]\n",
      " [4 5 6]\n",
      " [7 8 9]]\n"
     ]
    }
   ],
   "source": [
    "# 3.\n",
    "def replace_with_mean(p, x):\n",
    "    p = p.copy()\n",
    "    rows, cols = p.shape\n",
    "    for i in range(rows):\n",
    "        for j in range(cols):\n",
    "            if p[i, j] == x:\n",
    "                neighbors = []\n",
    "                if i > 0:\n",
    "                    neighbors.append(p[i-1, j])\n",
    "                if i < rows-1:\n",
    "                    neighbors.append(p[i+1, j])\n",
    "                if j > 0:\n",
    "                    neighbors.append(p[i, j-1])\n",
    "                if j < cols-1:\n",
    "                    neighbors.append(p[i, j+1])\n",
    "                p[i, j] = np.mean(neighbors) if neighbors else p[i, j]\n",
    "    return p\n",
    "\n",
    "p = np.array([[1, 2, 3], [4, 5, 6], [7, 8, 9]])\n",
    "x = 5\n",
    "new_p = replace_with_mean(p, x)\n",
    "print(new_p)\n"
   ]
  },
  {
   "cell_type": "code",
   "execution_count": null,
   "id": "b1598ddb-2342-4251-a046-97670104903e",
   "metadata": {},
   "outputs": [],
   "source": []
  }
 ],
 "metadata": {
  "kernelspec": {
   "display_name": "Python 3 (ipykernel)",
   "language": "python",
   "name": "python3"
  },
  "language_info": {
   "codemirror_mode": {
    "name": "ipython",
    "version": 3
   },
   "file_extension": ".py",
   "mimetype": "text/x-python",
   "name": "python",
   "nbconvert_exporter": "python",
   "pygments_lexer": "ipython3",
   "version": "3.11.7"
  }
 },
 "nbformat": 4,
 "nbformat_minor": 5
}
