{
 "cells": [
  {
   "cell_type": "code",
   "execution_count": 4,
   "id": "a657ad09-caad-425f-984c-de0eea05261b",
   "metadata": {},
   "outputs": [
    {
     "name": "stdout",
     "output_type": "stream",
     "text": [
      "Car Make: Toyota, Model: Corolla, Year: 2020\n"
     ]
    }
   ],
   "source": [
    "# class and object\n",
    "# Create a class Car with attributes make, model, and year. Create a method display_info that prints out the car's details. \n",
    "# Create an object of the class and call the method.\n",
    "\n",
    "class Car:\n",
    "    def __init__(self, make, model, year):\n",
    "        self.make = make\n",
    "        self.model = model\n",
    "        self.year = year\n",
    "\n",
    "    def display_info(self):\n",
    "        print(f\"Car Make: {self.make}, Model: {self.model}, Year: {self.year}\")\n",
    "\n",
    "# Creating an object of the Car class\n",
    "my_car = Car(\"Toyota\", \"Corolla\", 2020)\n",
    "\n",
    "# Calling the display_info method\n",
    "my_car.display_info()\n",
    "\n",
    "\n",
    "\n"
   ]
  },
  {
   "cell_type": "code",
   "execution_count": 5,
   "id": "84b5253d-93f0-478b-9453-7c51b1c18395",
   "metadata": {},
   "outputs": [
    {
     "name": "stdout",
     "output_type": "stream",
     "text": [
      "Some generic sound\n",
      "Bark\n"
     ]
    }
   ],
   "source": [
    "# Inheritance \n",
    "# Create a class Animal with a method sound that prints \"Some generic sound\". Create a subclass Dog that overrides the sound method \n",
    "# to print \"Bark\". Create objects of both classes and call their sound methods.\n",
    "\n",
    "class Animal:\n",
    "    def sound(self):\n",
    "        print(\"Some generic sound\")\n",
    "\n",
    "class Dog(Animal):\n",
    "    def sound(self):\n",
    "        print(\"Bark\")\n",
    "\n",
    "# Creating objects of both classes\n",
    "generic_animal = Animal()\n",
    "dog = Dog()\n",
    "\n",
    "# Calling the sound method on both objects\n",
    "generic_animal.sound()  \n",
    "dog.sound()             \n"
   ]
  },
  {
   "cell_type": "code",
   "execution_count": 6,
   "id": "cd24e93b-a338-4b1b-b0b9-02d76839f132",
   "metadata": {},
   "outputs": [
    {
     "name": "stdout",
     "output_type": "stream",
     "text": [
      "Deposited: 500\n",
      "1500\n",
      "Withdrew: 200\n",
      "1300\n"
     ]
    }
   ],
   "source": [
    "# encapsulation\n",
    "# Create a class BankAccount with attributes account_number and balance. Use private attributes and create methods deposit\n",
    "# and withdraw to modify the balance. Also, create a method get_balance to check the balance.\n",
    "\n",
    "class BankAccount:\n",
    "    def __init__(self, account_number, balance=0):\n",
    "        self.__account_number = account_number\n",
    "        self.__balance = balance\n",
    "\n",
    "    def deposit(self, amount):\n",
    "        if amount > 0:\n",
    "            self.__balance += amount\n",
    "            print(f\"Deposited: {amount}\")\n",
    "        else:\n",
    "            print(\"Invalid amount\")\n",
    "\n",
    "    def withdraw(self, amount):\n",
    "        if 0 < amount <= self.__balance:\n",
    "            self.__balance -= amount\n",
    "            print(f\"Withdrew: {amount}\")\n",
    "        else:\n",
    "            print(\"Invalid amount or insufficient funds\")\n",
    "\n",
    "    def get_balance(self):\n",
    "        return self.__balance\n",
    "\n",
    "# Creating an object of the BankAccount class\n",
    "my_account = BankAccount(\"12345678\", 1000)\n",
    "\n",
    "# Testing the methods\n",
    "my_account.deposit(500)\n",
    "print(my_account.get_balance())  \n",
    "my_account.withdraw(200)\n",
    "print(my_account.get_balance())  \n"
   ]
  },
  {
   "cell_type": "code",
   "execution_count": 7,
   "id": "02af2402-ee49-4fb4-908f-aaeb917907bc",
   "metadata": {},
   "outputs": [
    {
     "name": "stdout",
     "output_type": "stream",
     "text": [
      "Rectangle area: 15\n",
      "Circle area: 50.26548245743669\n"
     ]
    }
   ],
   "source": [
    "# polymorphism\n",
    "# Create a class Shape with a method area. Create subclasses Rectangle and Circle that override the area method to calculate \n",
    "# their respective areas. Demonstrate polymorphism by calling the area method on objects of different subclasses.\n",
    "\n",
    "import math\n",
    "\n",
    "class Shape:\n",
    "    def area(self):\n",
    "        pass\n",
    "\n",
    "class Rectangle(Shape):\n",
    "    def __init__(self, length, width):\n",
    "        self.length = length\n",
    "        self.width = width\n",
    "\n",
    "    def area(self):\n",
    "        return self.length * self.width\n",
    "\n",
    "class Circle(Shape):\n",
    "    def __init__(self, radius):\n",
    "        self.radius = radius\n",
    "\n",
    "    def area(self):\n",
    "        return math.pi * (self.radius ** 2)\n",
    "\n",
    "# Creating objects of both subclasses\n",
    "rect = Rectangle(5, 3)\n",
    "circle = Circle(4)\n",
    "\n",
    "#  polymorphism\n",
    "print(f\"Rectangle area: {rect.area()}\") \n",
    "print(f\"Circle area: {circle.area()}\")  "
   ]
  },
  {
   "cell_type": "code",
   "execution_count": 1,
   "id": "d39ab221-6041-4db0-bafc-22cc08704a7e",
   "metadata": {},
   "outputs": [
    {
     "name": "stdout",
     "output_type": "stream",
     "text": [
      "Execution completed.\n",
      "5.0\n",
      "Execution completed.\n",
      "Error: division by zero\n",
      "Execution completed.\n",
      "Error: unsupported operand type(s) for /: 'int' and 'str'\n"
     ]
    }
   ],
   "source": [
    "# exceptional handling\n",
    "\n",
    "def divide(a, b):\n",
    "    try:\n",
    "        result = a / b\n",
    "    except ZeroDivisionError as e:\n",
    "        return f\"Error: {e}\"\n",
    "    except TypeError as e:\n",
    "        return f\"Error: {e}\"\n",
    "    else:\n",
    "        return result\n",
    "    finally:\n",
    "        print(\"Execution completed.\")\n",
    "\n",
    "# Test the function\n",
    "print(divide(10, 2))  \n",
    "print(divide(10, 0))  \n",
    "print(divide(10, \"a\"))  \n"
   ]
  },
  {
   "cell_type": "code",
   "execution_count": null,
   "id": "6dc3acab-1838-46ff-8173-69df7230b4f0",
   "metadata": {},
   "outputs": [],
   "source": []
  }
 ],
 "metadata": {
  "kernelspec": {
   "display_name": "Python 3 (ipykernel)",
   "language": "python",
   "name": "python3"
  },
  "language_info": {
   "codemirror_mode": {
    "name": "ipython",
    "version": 3
   },
   "file_extension": ".py",
   "mimetype": "text/x-python",
   "name": "python",
   "nbconvert_exporter": "python",
   "pygments_lexer": "ipython3",
   "version": "3.11.7"
  }
 },
 "nbformat": 4,
 "nbformat_minor": 5
}
